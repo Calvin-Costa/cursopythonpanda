{
  "nbformat": 4,
  "nbformat_minor": 0,
  "metadata": {
    "colab": {
      "provenance": [],
      "authorship_tag": "ABX9TyPfxRA8HCV4DnSPA4JszeR5",
      "include_colab_link": true
    },
    "kernelspec": {
      "name": "python3",
      "display_name": "Python 3"
    },
    "language_info": {
      "name": "python"
    }
  },
  "cells": [
    {
      "cell_type": "markdown",
      "metadata": {
        "id": "view-in-github",
        "colab_type": "text"
      },
      "source": [
        "<a href=\"https://colab.research.google.com/github/Calvin-Costa/cursopythonpanda/blob/main/Caderno1.ipynb\" target=\"_parent\"><img src=\"https://colab.research.google.com/assets/colab-badge.svg\" alt=\"Open In Colab\"/></a>"
      ]
    },
    {
      "cell_type": "markdown",
      "source": [
        "Primeiro exemplo de manipulação de dados usando Python Pandas.\n",
        "\n",
        "Autor: Calvin Costa\n",
        "\n",
        "Data: 06 de Fevereiro de 2023"
      ],
      "metadata": {
        "id": "7MkuCTn2UhN0"
      }
    },
    {
      "cell_type": "code",
      "source": [
        "# Instalar o pandas: !pip install pandas\n",
        "# o ! é requerimento do colab. Fora dele é sem o !"
      ],
      "metadata": {
        "id": "_b_GgNeqV7Pf"
      },
      "execution_count": null,
      "outputs": []
    },
    {
      "cell_type": "code",
      "execution_count": null,
      "metadata": {
        "id": "9qOIwDhMCSJZ"
      },
      "outputs": [],
      "source": [
        "# importando biblioteca pandas no Python\n",
        "import pandas as pd\n",
        "\n",
        "ca_df = pd.read_excel(\"ca-2021-02.xlsx\")\n"
      ]
    },
    {
      "cell_type": "code",
      "source": [
        "#usa o print para ver o dataframe!\n",
        "print(ca_df)"
      ],
      "metadata": {
        "id": "moJGn-T9A-xb"
      },
      "execution_count": null,
      "outputs": []
    },
    {
      "cell_type": "code",
      "source": [
        "#usar o display para ver o dataframe fica muito melhor!\n",
        "display(ca_df)"
      ],
      "metadata": {
        "id": "RMvo5bQpCLSs"
      },
      "execution_count": null,
      "outputs": []
    },
    {
      "cell_type": "code",
      "source": [
        "\n",
        "#exibir as primeiras 15 linhas\n",
        "display(ca_df.head(15))"
      ],
      "metadata": {
        "id": "7qKUPIslE4YW"
      },
      "execution_count": null,
      "outputs": []
    },
    {
      "cell_type": "code",
      "source": [
        "# comando df.shape\n",
        "print(ca_df.shape) #mostra numero de linhas e colunas (l,c)\n",
        "print(ca_df.shape[0]) #mostra apenas o numero de linhas"
      ],
      "metadata": {
        "id": "l73ABHD1FBdH"
      },
      "execution_count": null,
      "outputs": []
    },
    {
      "cell_type": "code",
      "source": [
        "# comando df.info()\n",
        "print(ca_df.info()) # mostra quais sao as colunas e seus respectivos tipos de dados"
      ],
      "metadata": {
        "id": "V9ao3OVAKdNY",
        "colab": {
          "base_uri": "https://localhost:8080/"
        },
        "outputId": "cac83b5a-c4cf-4c96-896a-0ccc8c6aa3e8"
      },
      "execution_count": 32,
      "outputs": [
        {
          "output_type": "stream",
          "name": "stdout",
          "text": [
            "<class 'pandas.core.frame.DataFrame'>\n",
            "RangeIndex: 168409 entries, 0 to 168408\n",
            "Data columns (total 16 columns):\n",
            " #   Column             Non-Null Count   Dtype         \n",
            "---  ------             --------------   -----         \n",
            " 0   Regiao - Sigla     168409 non-null  object        \n",
            " 1   Estado - Sigla     168409 non-null  object        \n",
            " 2   Municipio          168409 non-null  object        \n",
            " 3   Revenda            168409 non-null  object        \n",
            " 4   CNPJ da Revenda    168409 non-null  object        \n",
            " 5   Nome da Rua        168409 non-null  object        \n",
            " 6   Numero Rua         168353 non-null  object        \n",
            " 7   Complemento        35057 non-null   object        \n",
            " 8   Bairro             168043 non-null  object        \n",
            " 9   Cep                168409 non-null  object        \n",
            " 10  Produto            168409 non-null  object        \n",
            " 11  Data da Coleta     168409 non-null  datetime64[ns]\n",
            " 12  Valor de Venda     168409 non-null  float64       \n",
            " 13  Valor de Compra    0 non-null       float64       \n",
            " 14  Unidade de Medida  168409 non-null  object        \n",
            " 15  Bandeira           168409 non-null  object        \n",
            "dtypes: datetime64[ns](1), float64(2), object(13)\n",
            "memory usage: 20.6+ MB\n",
            "None\n"
          ]
        }
      ]
    },
    {
      "cell_type": "code",
      "source": [
        "# comando df.describe\n",
        "print(ca_df.describe()) # mostra media,desvio padrao, etc função só"
      ],
      "metadata": {
        "id": "h4d0GFXRJtxc"
      },
      "execution_count": null,
      "outputs": []
    },
    {
      "cell_type": "code",
      "source": [
        "# filtrar apenas uma coluna:\n",
        "display(ca_df['Revenda'])"
      ],
      "metadata": {
        "id": "Ttp262mLZOOv",
        "colab": {
          "base_uri": "https://localhost:8080/",
          "height": 225
        },
        "outputId": "24cd4d0a-e4df-4f8a-898d-3ce092340241"
      },
      "execution_count": 36,
      "outputs": [
        {
          "output_type": "display_data",
          "data": {
            "text/plain": [
              "0                               POSTO ARAPIRACA LTDA\n",
              "1                               POSTO ARAPIRACA LTDA\n",
              "2                               POSTO ARAPIRACA LTDA\n",
              "3                               POSTO ARAPIRACA LTDA\n",
              "4                               POSTO ARAPIRACA LTDA\n",
              "                             ...                    \n",
              "168404    COMERCIAL DE COMBUSTIVEL CACHOEIRINHA LTDA\n",
              "168405             ABC DISTRIBUICAO DE PETROLEO LTDA\n",
              "168406             ABC DISTRIBUICAO DE PETROLEO LTDA\n",
              "168407             ABC DISTRIBUICAO DE PETROLEO LTDA\n",
              "168408             ABC DISTRIBUICAO DE PETROLEO LTDA\n",
              "Name: Revenda, Length: 168409, dtype: object"
            ]
          },
          "metadata": {}
        }
      ]
    },
    {
      "cell_type": "code",
      "source": [
        "# criando um novo dataframe apenas com as colunas desejadas:\n",
        "cb_df = ca_df[['Revenda', 'Municipio', 'Produto', 'Valor de Venda']]\n",
        "display(cb_df)"
      ],
      "metadata": {
        "id": "yC841BAnZjY6"
      },
      "execution_count": null,
      "outputs": []
    },
    {
      "cell_type": "code",
      "source": [
        "#Exibir a 4a linha:\n",
        "display(cb_df.loc[3])"
      ],
      "metadata": {
        "colab": {
          "base_uri": "https://localhost:8080/",
          "height": 104
        },
        "id": "vlCvWpGda42z",
        "outputId": "87c049d1-9568-4470-91f4-110adee9ae33"
      },
      "execution_count": 46,
      "outputs": [
        {
          "output_type": "display_data",
          "data": {
            "text/plain": [
              "Revenda           POSTO ARAPIRACA LTDA\n",
              "Municipio                    ARAPIRACA\n",
              "Produto             GASOLINA ADITIVADA\n",
              "Valor de Venda                   6.899\n",
              "Name: 3, dtype: object"
            ]
          },
          "metadata": {}
        }
      ]
    }
  ]
}