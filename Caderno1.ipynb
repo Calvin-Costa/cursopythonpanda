{
  "nbformat": 4,
  "nbformat_minor": 0,
  "metadata": {
    "colab": {
      "provenance": [],
      "authorship_tag": "ABX9TyPSnblHjVyeypN9AKZF/StS",
      "include_colab_link": true
    },
    "kernelspec": {
      "name": "python3",
      "display_name": "Python 3"
    },
    "language_info": {
      "name": "python"
    }
  },
  "cells": [
    {
      "cell_type": "markdown",
      "metadata": {
        "id": "view-in-github",
        "colab_type": "text"
      },
      "source": [
        "<a href=\"https://colab.research.google.com/github/Calvin-Costa/cursopythonpanda/blob/main/Caderno1.ipynb\" target=\"_parent\"><img src=\"https://colab.research.google.com/assets/colab-badge.svg\" alt=\"Open In Colab\"/></a>"
      ]
    },
    {
      "cell_type": "markdown",
      "source": [
        "Primeiro exemplo de manipulação de dados usando Python Pandas.\n",
        "\n",
        "Autor: Calvin Costa\n",
        "\n",
        "Data: 06 de Fevereiro de 2023"
      ],
      "metadata": {
        "id": "7MkuCTn2UhN0"
      }
    },
    {
      "cell_type": "code",
      "source": [
        "# Instalar o pandas: !pip install pandas\n",
        "# o ! é requerimento do colab. Fora dele é sem o !"
      ],
      "metadata": {
        "id": "_b_GgNeqV7Pf"
      },
      "execution_count": null,
      "outputs": []
    },
    {
      "cell_type": "code",
      "execution_count": null,
      "metadata": {
        "id": "9qOIwDhMCSJZ"
      },
      "outputs": [],
      "source": [
        "# importando biblioteca pandas no Python\n",
        "import pandas as pd\n",
        "\n",
        "ca_df = pd.read_excel(\"ca-2021-02.xlsx\")\n"
      ]
    },
    {
      "cell_type": "code",
      "source": [
        "#usa o print para ver o dataframe!\n",
        "print(ca_df)"
      ],
      "metadata": {
        "id": "moJGn-T9A-xb"
      },
      "execution_count": null,
      "outputs": []
    },
    {
      "cell_type": "code",
      "source": [
        "#usar o display para ver o dataframe fica muito melhor!\n",
        "display(ca_df)"
      ],
      "metadata": {
        "id": "RMvo5bQpCLSs"
      },
      "execution_count": null,
      "outputs": []
    },
    {
      "cell_type": "code",
      "source": [
        "\n",
        "#exibir as primeiras 15 linhas\n",
        "display(ca_df.head(15))"
      ],
      "metadata": {
        "id": "7qKUPIslE4YW"
      },
      "execution_count": null,
      "outputs": []
    },
    {
      "cell_type": "code",
      "source": [
        "# comando df.shape\n",
        "print(ca_df.shape) #mostra numero de linhas e colunas (l,c)\n",
        "print(ca_df.shape[0]) #mostra apenas o numero de linhas"
      ],
      "metadata": {
        "id": "l73ABHD1FBdH"
      },
      "execution_count": null,
      "outputs": []
    },
    {
      "cell_type": "code",
      "source": [
        "# comando df.info()\n",
        "print(ca_df.info())\n",
        " # mostra quais sao as colunas e seus respectivos tipos de dados"
      ],
      "metadata": {
        "id": "V9ao3OVAKdNY"
      },
      "execution_count": null,
      "outputs": []
    },
    {
      "cell_type": "code",
      "source": [
        "# comando df.describe\n",
        "print(ca_df.describe()) # mostra media,desvio padrao, etc função só"
      ],
      "metadata": {
        "id": "h4d0GFXRJtxc"
      },
      "execution_count": null,
      "outputs": []
    },
    {
      "cell_type": "code",
      "source": [
        "# filtrar apenas uma coluna:\n",
        "display(ca_df['Revenda'])"
      ],
      "metadata": {
        "id": "Ttp262mLZOOv"
      },
      "execution_count": null,
      "outputs": []
    },
    {
      "cell_type": "code",
      "source": [
        "# criando um novo dataframe apenas com as colunas desejadas:\n",
        "cb_df = ca_df[['Revenda', 'Municipio', 'Produto', 'Valor de Venda']]\n",
        "display(cb_df)"
      ],
      "metadata": {
        "id": "yC841BAnZjY6"
      },
      "execution_count": null,
      "outputs": []
    },
    {
      "cell_type": "code",
      "source": [
        "#Exibir a 4a linha através do comando .loc:\n",
        "display(cb_df.loc[3])"
      ],
      "metadata": {
        "id": "vlCvWpGda42z"
      },
      "execution_count": null,
      "outputs": []
    },
    {
      "cell_type": "code",
      "source": [
        "#Exibir da 10a linha até a 20a linha:\n",
        "display(cb_df.loc[9:19])"
      ],
      "metadata": {
        "id": "lBX8a04vdWZd"
      },
      "execution_count": null,
      "outputs": []
    },
    {
      "cell_type": "code",
      "source": [
        "# criando e exibindo na tela um dataframe gas_df contendo\n",
        "# apenas as 4 colunas(revenda,municipio, produto, valor de venda):\n",
        "# somente com combustível gasolina:\n",
        "gas_df = ca_df[['Revenda', 'Municipio', 'Produto', 'Valor de Venda']]\n",
        "gas_df = gas_df.loc[gas_df['Produto']=='GASOLINA']\n",
        "display(gas_df)"
      ],
      "metadata": {
        "id": "FD6E61IWeL_f"
      },
      "execution_count": null,
      "outputs": []
    },
    {
      "cell_type": "code",
      "source": [
        "# mostrando agora o maior preço de GASOLINA:\n",
        "display(gas_df.max())"
      ],
      "metadata": {
        "id": "9FdGNtoug2Wb"
      },
      "execution_count": null,
      "outputs": []
    },
    {
      "cell_type": "code",
      "source": [
        "#mostrando o posto, municipio e o preço da gasolina mais cara do país:\n",
        "display(gas_df[['Revenda', 'Municipio', 'Valor de Venda']].max())"
      ],
      "metadata": {
        "id": "x53c2H-Sg-fr"
      },
      "execution_count": null,
      "outputs": []
    },
    {
      "cell_type": "code",
      "source": [
        "#DataFrame.loc[] com múltiplas condições para filtragem\n",
        "#Quais são os preços de ETANOL na minha cidade (RIO DE JANEIRO)?\n",
        "#ordenado do menor preço para o maior\n",
        "et_rj_df = cb_df.loc[(cb_df['Produto'] == 'ETANOL') & (cb_df['Municipio'] == 'RIO DE JANEIRO')]\n",
        "et_rj_df.sort_values(by='Valor de Venda', inplace=True, ascending = False)\n",
        "display(et_rj_df)"
      ],
      "metadata": {
        "colab": {
          "base_uri": "https://localhost:8080/",
          "height": 510
        },
        "id": "QFSgydzyJvEs",
        "outputId": "eeb73955-8b95-4701-9462-d20b68f5414d"
      },
      "execution_count": null,
      "outputs": [
        {
          "output_type": "stream",
          "name": "stderr",
          "text": [
            "/usr/local/lib/python3.8/dist-packages/pandas/util/_decorators.py:311: SettingWithCopyWarning: \n",
            "A value is trying to be set on a copy of a slice from a DataFrame\n",
            "\n",
            "See the caveats in the documentation: https://pandas.pydata.org/pandas-docs/stable/user_guide/indexing.html#returning-a-view-versus-a-copy\n",
            "  return func(*args, **kwargs)\n"
          ]
        },
        {
          "output_type": "display_data",
          "data": {
            "text/plain": [
              "                                        Revenda       Municipio Produto  \\\n",
              "5886         POSTO DE GASOLINA RIAS BAIXAS LTDA  RIO DE JANEIRO  ETANOL   \n",
              "48210   POSTO DE ABASTECIMENTO UBA GERAIS LTDA.  RIO DE JANEIRO  ETANOL   \n",
              "68432     SAO CRISTOVAO  POSTO DE SERVIÇOS LTDA  RIO DE JANEIRO  ETANOL   \n",
              "150882              AUTO SERVICO BANCARIOS LTDA  RIO DE JANEIRO  ETANOL   \n",
              "76484               AUTO SERVICO BANCARIOS LTDA  RIO DE JANEIRO  ETANOL   \n",
              "...                                         ...             ...     ...   \n",
              "94820            AUTO POSTO ARTUR RIOS - EIRELI  RIO DE JANEIRO  ETANOL   \n",
              "154713      POSTO DE ABASTECIMENTO M & R EIRELI  RIO DE JANEIRO  ETANOL   \n",
              "3501           POSTO DE GASOLINA GREICIGIL LTDA  RIO DE JANEIRO  ETANOL   \n",
              "150864      MOTO ROYAL POSTO DE SERVICOS EIRELI  RIO DE JANEIRO  ETANOL   \n",
              "19851              POSTO DE GASOLINA NOBRE LTDA  RIO DE JANEIRO  ETANOL   \n",
              "\n",
              "        Valor de Venda  \n",
              "5886             7.499  \n",
              "48210            7.429  \n",
              "68432            7.398  \n",
              "150882           7.299  \n",
              "76484            7.299  \n",
              "...                ...  \n",
              "94820            5.499  \n",
              "154713           5.499  \n",
              "3501             5.499  \n",
              "150864           5.499  \n",
              "19851            5.089  \n",
              "\n",
              "[544 rows x 4 columns]"
            ],
            "text/html": [
              "\n",
              "  <div id=\"df-9b3b877b-f9bc-48a3-9197-4867459e128d\">\n",
              "    <div class=\"colab-df-container\">\n",
              "      <div>\n",
              "<style scoped>\n",
              "    .dataframe tbody tr th:only-of-type {\n",
              "        vertical-align: middle;\n",
              "    }\n",
              "\n",
              "    .dataframe tbody tr th {\n",
              "        vertical-align: top;\n",
              "    }\n",
              "\n",
              "    .dataframe thead th {\n",
              "        text-align: right;\n",
              "    }\n",
              "</style>\n",
              "<table border=\"1\" class=\"dataframe\">\n",
              "  <thead>\n",
              "    <tr style=\"text-align: right;\">\n",
              "      <th></th>\n",
              "      <th>Revenda</th>\n",
              "      <th>Municipio</th>\n",
              "      <th>Produto</th>\n",
              "      <th>Valor de Venda</th>\n",
              "    </tr>\n",
              "  </thead>\n",
              "  <tbody>\n",
              "    <tr>\n",
              "      <th>5886</th>\n",
              "      <td>POSTO DE GASOLINA RIAS BAIXAS LTDA</td>\n",
              "      <td>RIO DE JANEIRO</td>\n",
              "      <td>ETANOL</td>\n",
              "      <td>7.499</td>\n",
              "    </tr>\n",
              "    <tr>\n",
              "      <th>48210</th>\n",
              "      <td>POSTO DE ABASTECIMENTO UBA GERAIS LTDA.</td>\n",
              "      <td>RIO DE JANEIRO</td>\n",
              "      <td>ETANOL</td>\n",
              "      <td>7.429</td>\n",
              "    </tr>\n",
              "    <tr>\n",
              "      <th>68432</th>\n",
              "      <td>SAO CRISTOVAO  POSTO DE SERVIÇOS LTDA</td>\n",
              "      <td>RIO DE JANEIRO</td>\n",
              "      <td>ETANOL</td>\n",
              "      <td>7.398</td>\n",
              "    </tr>\n",
              "    <tr>\n",
              "      <th>150882</th>\n",
              "      <td>AUTO SERVICO BANCARIOS LTDA</td>\n",
              "      <td>RIO DE JANEIRO</td>\n",
              "      <td>ETANOL</td>\n",
              "      <td>7.299</td>\n",
              "    </tr>\n",
              "    <tr>\n",
              "      <th>76484</th>\n",
              "      <td>AUTO SERVICO BANCARIOS LTDA</td>\n",
              "      <td>RIO DE JANEIRO</td>\n",
              "      <td>ETANOL</td>\n",
              "      <td>7.299</td>\n",
              "    </tr>\n",
              "    <tr>\n",
              "      <th>...</th>\n",
              "      <td>...</td>\n",
              "      <td>...</td>\n",
              "      <td>...</td>\n",
              "      <td>...</td>\n",
              "    </tr>\n",
              "    <tr>\n",
              "      <th>94820</th>\n",
              "      <td>AUTO POSTO ARTUR RIOS - EIRELI</td>\n",
              "      <td>RIO DE JANEIRO</td>\n",
              "      <td>ETANOL</td>\n",
              "      <td>5.499</td>\n",
              "    </tr>\n",
              "    <tr>\n",
              "      <th>154713</th>\n",
              "      <td>POSTO DE ABASTECIMENTO M &amp; R EIRELI</td>\n",
              "      <td>RIO DE JANEIRO</td>\n",
              "      <td>ETANOL</td>\n",
              "      <td>5.499</td>\n",
              "    </tr>\n",
              "    <tr>\n",
              "      <th>3501</th>\n",
              "      <td>POSTO DE GASOLINA GREICIGIL LTDA</td>\n",
              "      <td>RIO DE JANEIRO</td>\n",
              "      <td>ETANOL</td>\n",
              "      <td>5.499</td>\n",
              "    </tr>\n",
              "    <tr>\n",
              "      <th>150864</th>\n",
              "      <td>MOTO ROYAL POSTO DE SERVICOS EIRELI</td>\n",
              "      <td>RIO DE JANEIRO</td>\n",
              "      <td>ETANOL</td>\n",
              "      <td>5.499</td>\n",
              "    </tr>\n",
              "    <tr>\n",
              "      <th>19851</th>\n",
              "      <td>POSTO DE GASOLINA NOBRE LTDA</td>\n",
              "      <td>RIO DE JANEIRO</td>\n",
              "      <td>ETANOL</td>\n",
              "      <td>5.089</td>\n",
              "    </tr>\n",
              "  </tbody>\n",
              "</table>\n",
              "<p>544 rows × 4 columns</p>\n",
              "</div>\n",
              "      <button class=\"colab-df-convert\" onclick=\"convertToInteractive('df-9b3b877b-f9bc-48a3-9197-4867459e128d')\"\n",
              "              title=\"Convert this dataframe to an interactive table.\"\n",
              "              style=\"display:none;\">\n",
              "        \n",
              "  <svg xmlns=\"http://www.w3.org/2000/svg\" height=\"24px\"viewBox=\"0 0 24 24\"\n",
              "       width=\"24px\">\n",
              "    <path d=\"M0 0h24v24H0V0z\" fill=\"none\"/>\n",
              "    <path d=\"M18.56 5.44l.94 2.06.94-2.06 2.06-.94-2.06-.94-.94-2.06-.94 2.06-2.06.94zm-11 1L8.5 8.5l.94-2.06 2.06-.94-2.06-.94L8.5 2.5l-.94 2.06-2.06.94zm10 10l.94 2.06.94-2.06 2.06-.94-2.06-.94-.94-2.06-.94 2.06-2.06.94z\"/><path d=\"M17.41 7.96l-1.37-1.37c-.4-.4-.92-.59-1.43-.59-.52 0-1.04.2-1.43.59L10.3 9.45l-7.72 7.72c-.78.78-.78 2.05 0 2.83L4 21.41c.39.39.9.59 1.41.59.51 0 1.02-.2 1.41-.59l7.78-7.78 2.81-2.81c.8-.78.8-2.07 0-2.86zM5.41 20L4 18.59l7.72-7.72 1.47 1.35L5.41 20z\"/>\n",
              "  </svg>\n",
              "      </button>\n",
              "      \n",
              "  <style>\n",
              "    .colab-df-container {\n",
              "      display:flex;\n",
              "      flex-wrap:wrap;\n",
              "      gap: 12px;\n",
              "    }\n",
              "\n",
              "    .colab-df-convert {\n",
              "      background-color: #E8F0FE;\n",
              "      border: none;\n",
              "      border-radius: 50%;\n",
              "      cursor: pointer;\n",
              "      display: none;\n",
              "      fill: #1967D2;\n",
              "      height: 32px;\n",
              "      padding: 0 0 0 0;\n",
              "      width: 32px;\n",
              "    }\n",
              "\n",
              "    .colab-df-convert:hover {\n",
              "      background-color: #E2EBFA;\n",
              "      box-shadow: 0px 1px 2px rgba(60, 64, 67, 0.3), 0px 1px 3px 1px rgba(60, 64, 67, 0.15);\n",
              "      fill: #174EA6;\n",
              "    }\n",
              "\n",
              "    [theme=dark] .colab-df-convert {\n",
              "      background-color: #3B4455;\n",
              "      fill: #D2E3FC;\n",
              "    }\n",
              "\n",
              "    [theme=dark] .colab-df-convert:hover {\n",
              "      background-color: #434B5C;\n",
              "      box-shadow: 0px 1px 3px 1px rgba(0, 0, 0, 0.15);\n",
              "      filter: drop-shadow(0px 1px 2px rgba(0, 0, 0, 0.3));\n",
              "      fill: #FFFFFF;\n",
              "    }\n",
              "  </style>\n",
              "\n",
              "      <script>\n",
              "        const buttonEl =\n",
              "          document.querySelector('#df-9b3b877b-f9bc-48a3-9197-4867459e128d button.colab-df-convert');\n",
              "        buttonEl.style.display =\n",
              "          google.colab.kernel.accessAllowed ? 'block' : 'none';\n",
              "\n",
              "        async function convertToInteractive(key) {\n",
              "          const element = document.querySelector('#df-9b3b877b-f9bc-48a3-9197-4867459e128d');\n",
              "          const dataTable =\n",
              "            await google.colab.kernel.invokeFunction('convertToInteractive',\n",
              "                                                     [key], {});\n",
              "          if (!dataTable) return;\n",
              "\n",
              "          const docLinkHtml = 'Like what you see? Visit the ' +\n",
              "            '<a target=\"_blank\" href=https://colab.research.google.com/notebooks/data_table.ipynb>data table notebook</a>'\n",
              "            + ' to learn more about interactive tables.';\n",
              "          element.innerHTML = '';\n",
              "          dataTable['output_type'] = 'display_data';\n",
              "          await google.colab.output.renderOutput(dataTable, element);\n",
              "          const docLink = document.createElement('div');\n",
              "          docLink.innerHTML = docLinkHtml;\n",
              "          element.appendChild(docLink);\n",
              "        }\n",
              "      </script>\n",
              "    </div>\n",
              "  </div>\n",
              "  "
            ]
          },
          "metadata": {}
        }
      ]
    },
    {
      "cell_type": "code",
      "source": [
        "#Qual a média de preços dos combustíveis GASOLINA e GASOLINA ADITIVADA do bairro BELA VISTA em SÃO PAULO\n",
        "ga_gad_df = ca_df[['Produto','Municipio','Bairro','Valor de Venda']]\n",
        "ga_gad_df = ga_gad_df.loc[(ga_gad_df['Municipio'] == 'SAO PAULO') &\n",
        "                          ((ga_gad_df['Bairro'] == 'MOOCA') &\n",
        "                           ((ga_gad_df['Produto'] == 'GASOLINA') |\n",
        "                            (ga_gad_df['Produto'] == 'GASOLINA ADITIVADA')))]\n",
        "display(ga_gad_df['Valor de Venda'].mean())"
      ],
      "metadata": {
        "colab": {
          "base_uri": "https://localhost:8080/",
          "height": 34
        },
        "id": "lu6FI0CUPsz3",
        "outputId": "fd7d42d9-9c48-4562-8114-93470ae71d4b"
      },
      "execution_count": null,
      "outputs": [
        {
          "output_type": "display_data",
          "data": {
            "text/plain": [
              "6.575595744680852"
            ]
          },
          "metadata": {}
        }
      ]
    },
    {
      "cell_type": "code",
      "source": [
        "# Como mostrar média de valor de venda por COMBUSTÍVEL?\n",
        "\n",
        "media_comb_df = cb_df[['Produto','Valor de Venda']].groupby(by='Produto').mean()\n",
        "display(media_comb_df)"
      ],
      "metadata": {
        "id": "atzBFu35ijn5",
        "colab": {
          "base_uri": "https://localhost:8080/",
          "height": 269
        },
        "outputId": "61cb3914-06b3-41ab-f714-f5600876f43b"
      },
      "execution_count": 67,
      "outputs": [
        {
          "output_type": "display_data",
          "data": {
            "text/plain": [
              "                    Valor de Venda\n",
              "Produto                           \n",
              "DIESEL                    5.375682\n",
              "DIESEL S10                5.454901\n",
              "ETANOL                    5.456115\n",
              "GASOLINA                  6.708741\n",
              "GASOLINA ADITIVADA        6.860422\n",
              "GNV                       4.392935"
            ],
            "text/html": [
              "\n",
              "  <div id=\"df-c72dc429-d05f-401a-add8-09d318bf89a0\">\n",
              "    <div class=\"colab-df-container\">\n",
              "      <div>\n",
              "<style scoped>\n",
              "    .dataframe tbody tr th:only-of-type {\n",
              "        vertical-align: middle;\n",
              "    }\n",
              "\n",
              "    .dataframe tbody tr th {\n",
              "        vertical-align: top;\n",
              "    }\n",
              "\n",
              "    .dataframe thead th {\n",
              "        text-align: right;\n",
              "    }\n",
              "</style>\n",
              "<table border=\"1\" class=\"dataframe\">\n",
              "  <thead>\n",
              "    <tr style=\"text-align: right;\">\n",
              "      <th></th>\n",
              "      <th>Valor de Venda</th>\n",
              "    </tr>\n",
              "    <tr>\n",
              "      <th>Produto</th>\n",
              "      <th></th>\n",
              "    </tr>\n",
              "  </thead>\n",
              "  <tbody>\n",
              "    <tr>\n",
              "      <th>DIESEL</th>\n",
              "      <td>5.375682</td>\n",
              "    </tr>\n",
              "    <tr>\n",
              "      <th>DIESEL S10</th>\n",
              "      <td>5.454901</td>\n",
              "    </tr>\n",
              "    <tr>\n",
              "      <th>ETANOL</th>\n",
              "      <td>5.456115</td>\n",
              "    </tr>\n",
              "    <tr>\n",
              "      <th>GASOLINA</th>\n",
              "      <td>6.708741</td>\n",
              "    </tr>\n",
              "    <tr>\n",
              "      <th>GASOLINA ADITIVADA</th>\n",
              "      <td>6.860422</td>\n",
              "    </tr>\n",
              "    <tr>\n",
              "      <th>GNV</th>\n",
              "      <td>4.392935</td>\n",
              "    </tr>\n",
              "  </tbody>\n",
              "</table>\n",
              "</div>\n",
              "      <button class=\"colab-df-convert\" onclick=\"convertToInteractive('df-c72dc429-d05f-401a-add8-09d318bf89a0')\"\n",
              "              title=\"Convert this dataframe to an interactive table.\"\n",
              "              style=\"display:none;\">\n",
              "        \n",
              "  <svg xmlns=\"http://www.w3.org/2000/svg\" height=\"24px\"viewBox=\"0 0 24 24\"\n",
              "       width=\"24px\">\n",
              "    <path d=\"M0 0h24v24H0V0z\" fill=\"none\"/>\n",
              "    <path d=\"M18.56 5.44l.94 2.06.94-2.06 2.06-.94-2.06-.94-.94-2.06-.94 2.06-2.06.94zm-11 1L8.5 8.5l.94-2.06 2.06-.94-2.06-.94L8.5 2.5l-.94 2.06-2.06.94zm10 10l.94 2.06.94-2.06 2.06-.94-2.06-.94-.94-2.06-.94 2.06-2.06.94z\"/><path d=\"M17.41 7.96l-1.37-1.37c-.4-.4-.92-.59-1.43-.59-.52 0-1.04.2-1.43.59L10.3 9.45l-7.72 7.72c-.78.78-.78 2.05 0 2.83L4 21.41c.39.39.9.59 1.41.59.51 0 1.02-.2 1.41-.59l7.78-7.78 2.81-2.81c.8-.78.8-2.07 0-2.86zM5.41 20L4 18.59l7.72-7.72 1.47 1.35L5.41 20z\"/>\n",
              "  </svg>\n",
              "      </button>\n",
              "      \n",
              "  <style>\n",
              "    .colab-df-container {\n",
              "      display:flex;\n",
              "      flex-wrap:wrap;\n",
              "      gap: 12px;\n",
              "    }\n",
              "\n",
              "    .colab-df-convert {\n",
              "      background-color: #E8F0FE;\n",
              "      border: none;\n",
              "      border-radius: 50%;\n",
              "      cursor: pointer;\n",
              "      display: none;\n",
              "      fill: #1967D2;\n",
              "      height: 32px;\n",
              "      padding: 0 0 0 0;\n",
              "      width: 32px;\n",
              "    }\n",
              "\n",
              "    .colab-df-convert:hover {\n",
              "      background-color: #E2EBFA;\n",
              "      box-shadow: 0px 1px 2px rgba(60, 64, 67, 0.3), 0px 1px 3px 1px rgba(60, 64, 67, 0.15);\n",
              "      fill: #174EA6;\n",
              "    }\n",
              "\n",
              "    [theme=dark] .colab-df-convert {\n",
              "      background-color: #3B4455;\n",
              "      fill: #D2E3FC;\n",
              "    }\n",
              "\n",
              "    [theme=dark] .colab-df-convert:hover {\n",
              "      background-color: #434B5C;\n",
              "      box-shadow: 0px 1px 3px 1px rgba(0, 0, 0, 0.15);\n",
              "      filter: drop-shadow(0px 1px 2px rgba(0, 0, 0, 0.3));\n",
              "      fill: #FFFFFF;\n",
              "    }\n",
              "  </style>\n",
              "\n",
              "      <script>\n",
              "        const buttonEl =\n",
              "          document.querySelector('#df-c72dc429-d05f-401a-add8-09d318bf89a0 button.colab-df-convert');\n",
              "        buttonEl.style.display =\n",
              "          google.colab.kernel.accessAllowed ? 'block' : 'none';\n",
              "\n",
              "        async function convertToInteractive(key) {\n",
              "          const element = document.querySelector('#df-c72dc429-d05f-401a-add8-09d318bf89a0');\n",
              "          const dataTable =\n",
              "            await google.colab.kernel.invokeFunction('convertToInteractive',\n",
              "                                                     [key], {});\n",
              "          if (!dataTable) return;\n",
              "\n",
              "          const docLinkHtml = 'Like what you see? Visit the ' +\n",
              "            '<a target=\"_blank\" href=https://colab.research.google.com/notebooks/data_table.ipynb>data table notebook</a>'\n",
              "            + ' to learn more about interactive tables.';\n",
              "          element.innerHTML = '';\n",
              "          dataTable['output_type'] = 'display_data';\n",
              "          await google.colab.output.renderOutput(dataTable, element);\n",
              "          const docLink = document.createElement('div');\n",
              "          docLink.innerHTML = docLinkHtml;\n",
              "          element.appendChild(docLink);\n",
              "        }\n",
              "      </script>\n",
              "    </div>\n",
              "  </div>\n",
              "  "
            ]
          },
          "metadata": {}
        }
      ]
    },
    {
      "cell_type": "code",
      "source": [
        "# Quero adicionar uma coluna de valor booleano no ca_df\n",
        "# chamada \"Ativo\", que por padrão, vai ser True para todas as linhas\n",
        "ca_df['Ativo'] = True\n",
        "display(ca_df)"
      ],
      "metadata": {
        "id": "6_VcuUj6kdgM"
      },
      "execution_count": null,
      "outputs": []
    },
    {
      "cell_type": "code",
      "source": [
        "# E se eu quiser uma coluna nova chamada \"Obs\"\n",
        "# que preencha automaticamente \"MELHOR CIDADE\"\n",
        "# quando o municipio for \"RIO DE JANEIRO\"\n",
        "#ca_df['Obs'] = 'MELHOR CIDADE' if (ca_df['Municipio'] == 'RIO DE JANEIRO') NÃO FUNCIONOU"
      ],
      "metadata": {
        "colab": {
          "base_uri": "https://localhost:8080/",
          "height": 130
        },
        "id": "MP2jMrQjmL1W",
        "outputId": "70e457a7-b8e7-432f-debf-be5733bef884"
      },
      "execution_count": 70,
      "outputs": [
        {
          "output_type": "error",
          "ename": "SyntaxError",
          "evalue": "ignored",
          "traceback": [
            "\u001b[0;36m  File \u001b[0;32m\"<ipython-input-70-84ba16acca9f>\"\u001b[0;36m, line \u001b[0;32m4\u001b[0m\n\u001b[0;31m    ca_df['Obs'] = True if (ca_df['Municipio'] == 'RIO DE JANEIRO')\u001b[0m\n\u001b[0m                                                                   ^\u001b[0m\n\u001b[0;31mSyntaxError\u001b[0m\u001b[0;31m:\u001b[0m invalid syntax\n"
          ]
        }
      ]
    },
    {
      "cell_type": "code",
      "source": [
        "# Exportar para EXCEL o dataframe com etanol em RJ\n",
        "et_rj_df = et_rj_df.reset_index()\n",
        "et_rj_df.to_excel('et_rj_df.xlsx', sheet_name='Etanol em RJ')"
      ],
      "metadata": {
        "id": "pknZsgjtodTm"
      },
      "execution_count": 74,
      "outputs": []
    }
  ]
}