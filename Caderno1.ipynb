{
  "nbformat": 4,
  "nbformat_minor": 0,
  "metadata": {
    "colab": {
      "provenance": [],
      "authorship_tag": "ABX9TyMetZNodLJiPLuzhb4uyx7r",
      "include_colab_link": true
    },
    "kernelspec": {
      "name": "python3",
      "display_name": "Python 3"
    },
    "language_info": {
      "name": "python"
    }
  },
  "cells": [
    {
      "cell_type": "markdown",
      "metadata": {
        "id": "view-in-github",
        "colab_type": "text"
      },
      "source": [
        "<a href=\"https://colab.research.google.com/github/Calvin-Costa/cursopythonpanda/blob/main/Caderno1.ipynb\" target=\"_parent\"><img src=\"https://colab.research.google.com/assets/colab-badge.svg\" alt=\"Open In Colab\"/></a>"
      ]
    },
    {
      "cell_type": "markdown",
      "source": [
        "Primeiro exemplo de manipulação de dados usando Python Pandas.\n",
        "\n",
        "Autor: Calvin Costa\n",
        "\n",
        "Data: 06 de Fevereiro de 2023"
      ],
      "metadata": {
        "id": "7MkuCTn2UhN0"
      }
    },
    {
      "cell_type": "code",
      "source": [
        "# Instalar o pandas: !pip install pandas\n",
        "# o ! é requerimento do colab. Fora dele é sem o !"
      ],
      "metadata": {
        "id": "_b_GgNeqV7Pf"
      },
      "execution_count": null,
      "outputs": []
    },
    {
      "cell_type": "code",
      "execution_count": null,
      "metadata": {
        "id": "9qOIwDhMCSJZ"
      },
      "outputs": [],
      "source": [
        "# importando biblioteca pandas no Python\n",
        "import pandas as pd\n",
        "\n",
        "ca_df = pd.read_excel(\"ca-2021-02.xlsx\")\n"
      ]
    },
    {
      "cell_type": "code",
      "source": [
        "#usa o print para ver o dataframe!\n",
        "print(ca_df)"
      ],
      "metadata": {
        "id": "moJGn-T9A-xb"
      },
      "execution_count": null,
      "outputs": []
    },
    {
      "cell_type": "code",
      "source": [
        "#usar o display para ver o dataframe fica muito melhor!\n",
        "display(ca_df)"
      ],
      "metadata": {
        "id": "RMvo5bQpCLSs"
      },
      "execution_count": null,
      "outputs": []
    },
    {
      "cell_type": "code",
      "source": [
        "\n",
        "#exibir as primeiras 15 linhas\n",
        "display(ca_df.head(15))"
      ],
      "metadata": {
        "id": "7qKUPIslE4YW"
      },
      "execution_count": null,
      "outputs": []
    },
    {
      "cell_type": "code",
      "source": [
        "# comando df.shape\n",
        "print(ca_df.shape) #mostra numero de linhas e colunas (l,c)\n",
        "print(ca_df.shape[0]) #mostra apenas o numero de linhas"
      ],
      "metadata": {
        "id": "l73ABHD1FBdH"
      },
      "execution_count": null,
      "outputs": []
    },
    {
      "cell_type": "code",
      "source": [
        "# comando df.info()\n",
        "print(ca_df.info())\n",
        " # mostra quais sao as colunas e seus respectivos tipos de dados"
      ],
      "metadata": {
        "id": "V9ao3OVAKdNY"
      },
      "execution_count": null,
      "outputs": []
    },
    {
      "cell_type": "code",
      "source": [
        "# comando df.describe\n",
        "print(ca_df.describe()) # mostra media,desvio padrao, etc função só"
      ],
      "metadata": {
        "id": "h4d0GFXRJtxc"
      },
      "execution_count": null,
      "outputs": []
    },
    {
      "cell_type": "code",
      "source": [
        "# filtrar apenas uma coluna:\n",
        "display(ca_df['Revenda'])"
      ],
      "metadata": {
        "id": "Ttp262mLZOOv"
      },
      "execution_count": null,
      "outputs": []
    },
    {
      "cell_type": "code",
      "source": [
        "# criando um novo dataframe apenas com as colunas desejadas:\n",
        "cb_df = ca_df[['Revenda', 'Municipio', 'Produto', 'Valor de Venda']]\n",
        "display(cb_df)"
      ],
      "metadata": {
        "id": "yC841BAnZjY6"
      },
      "execution_count": null,
      "outputs": []
    },
    {
      "cell_type": "code",
      "source": [
        "#Exibir a 4a linha através do comando .loc:\n",
        "display(cb_df.loc[3])"
      ],
      "metadata": {
        "id": "vlCvWpGda42z"
      },
      "execution_count": null,
      "outputs": []
    },
    {
      "cell_type": "code",
      "source": [
        "#Exibir da 10a linha até a 20a linha:\n",
        "display(cb_df.loc[9:19])"
      ],
      "metadata": {
        "id": "lBX8a04vdWZd"
      },
      "execution_count": null,
      "outputs": []
    },
    {
      "cell_type": "code",
      "source": [
        "# criando e exibindo na tela um dataframe gas_df contendo\n",
        "# apenas as 4 colunas(revenda,municipio, produto, valor de venda):\n",
        "# somente com combustível gasolina:\n",
        "gas_df = ca_df[['Revenda', 'Municipio', 'Produto', 'Valor de Venda']]\n",
        "gas_df = gas_df.loc[gas_df['Produto']=='GASOLINA']\n",
        "display(gas_df)"
      ],
      "metadata": {
        "colab": {
          "base_uri": "https://localhost:8080/",
          "height": 104
        },
        "id": "FD6E61IWeL_f",
        "outputId": "055c8897-05c4-4cce-abbf-d0c5ac86c387"
      },
      "execution_count": 53,
      "outputs": [
        {
          "output_type": "display_data",
          "data": {
            "text/plain": [
              "Revenda           ZV POSTO DE SERVIÇO LTDA.\n",
              "Municipio                           XANXERE\n",
              "Produto                            GASOLINA\n",
              "Valor de Venda                        7.999\n",
              "dtype: object"
            ]
          },
          "metadata": {}
        }
      ]
    },
    {
      "cell_type": "code",
      "source": [
        "# mostrando agora o maior preço de GASOLINA:\n",
        "display(gas_df.max())"
      ],
      "metadata": {
        "colab": {
          "base_uri": "https://localhost:8080/",
          "height": 104
        },
        "id": "9FdGNtoug2Wb",
        "outputId": "09f6f5fc-a411-4e9a-8837-24cc022b05a9"
      },
      "execution_count": 54,
      "outputs": [
        {
          "output_type": "display_data",
          "data": {
            "text/plain": [
              "Revenda           ZV POSTO DE SERVIÇO LTDA.\n",
              "Municipio                           XANXERE\n",
              "Produto                            GASOLINA\n",
              "Valor de Venda                        7.999\n",
              "dtype: object"
            ]
          },
          "metadata": {}
        }
      ]
    },
    {
      "cell_type": "code",
      "source": [
        "#mostrando o posto, municipio e o preço da gasolina mais cara do país:\n",
        "display(gas_df[['Revenda', 'Municipio', 'Valor de Venda']].max())"
      ],
      "metadata": {
        "colab": {
          "base_uri": "https://localhost:8080/",
          "height": 86
        },
        "id": "x53c2H-Sg-fr",
        "outputId": "2b01e289-7cab-4dcb-b860-3fdf66f3adce"
      },
      "execution_count": 57,
      "outputs": [
        {
          "output_type": "display_data",
          "data": {
            "text/plain": [
              "Revenda           ZV POSTO DE SERVIÇO LTDA.\n",
              "Municipio                           XANXERE\n",
              "Valor de Venda                        7.999\n",
              "dtype: object"
            ]
          },
          "metadata": {}
        }
      ]
    }
  ]
}